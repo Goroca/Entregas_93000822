{
  "nbformat": 4,
  "nbformat_minor": 0,
  "metadata": {
    "colab": {
      "name": "DatosEnlazados_AngelaBurgaleta.ipynb",
      "provenance": [],
      "collapsed_sections": []
    },
    "kernelspec": {
      "name": "python3",
      "display_name": "Python 3"
    },
    "language_info": {
      "name": "python"
    }
  },
  "cells": [
    {
      "cell_type": "markdown",
      "source": [
        "#Datos enlazados\n",
        "Angela Burgaleta Ledesma\n",
        "\n",
        "Entrega CDAW Feb2022 MUIT"
      ],
      "metadata": {
        "id": "DWHM0BKhV-d3"
      }
    },
    {
      "cell_type": "code",
      "source": [
        "from helpers import sparql\n"
      ],
      "metadata": {
        "colab": {
          "base_uri": "https://localhost:8080/",
          "height": 17
        },
        "id": "jBi54UW5WFEd",
        "outputId": "9dda5669-3a5a-4a29-d344-c2a859ddbdf0"
      },
      "execution_count": 1,
      "outputs": [
        {
          "output_type": "display_data",
          "data": {
            "application/javascript": [
              "IPython.CodeCell.options_default.highlight_modes['magic_sparql'] = {'reg':[/^%%sparql/]};"
            ]
          },
          "metadata": {}
        }
      ]
    },
    {
      "cell_type": "code",
      "source": [
        "%%sparql https://live.dbpedia.org/sparql\n",
        "\n",
        "SELECT *\n",
        "WHERE\n",
        "     {\n",
        "        ?band rdfs:label \"My Chemical Romance\"@en\n",
        "     }"
      ],
      "metadata": {
        "colab": {
          "base_uri": "https://localhost:8080/",
          "height": 85
        },
        "id": "D-AfEBCNWoEo",
        "outputId": "28335a5f-d738-4368-8825-e60eedf3bc7c"
      },
      "execution_count": null,
      "outputs": [
        {
          "output_type": "execute_result",
          "data": {
            "text/html": [
              "<table><thead><tr><th>band</th><tr></thead><tbody><tr><td>http://dbpedia.org/resource/My_Chemical_Romance</td></tr><tr><td>http://dbpedia.org/resource/Category:My_Chemical_Romance</td></tr></tbody></table>"
            ],
            "text/plain": [
              "<IPython.core.display.HTML object>"
            ]
          },
          "metadata": {},
          "execution_count": 3
        }
      ]
    },
    {
      "cell_type": "markdown",
      "source": [
        "##1. ¿En qué año se creó la banda My Chemical Romance?"
      ],
      "metadata": {
        "id": "0u4e5YrR7l2y"
      }
    },
    {
      "cell_type": "code",
      "source": [
        "%%sparql https://live.dbpedia.org/sparql\n",
        "\n",
        "SELECT *\n",
        "WHERE\n",
        "     {\n",
        "        ?band rdfs:label \"My Chemical Romance\"@en ;\n",
        "                 dbo:activeYearsStartYear ?activeYearsStartYear .       \n",
        "     }"
      ],
      "metadata": {
        "colab": {
          "base_uri": "https://localhost:8080/",
          "height": 64
        },
        "id": "vfulmhVyWzu4",
        "outputId": "4bd30143-ba84-4911-f37f-6ef3f5a78cfb"
      },
      "execution_count": 2,
      "outputs": [
        {
          "output_type": "execute_result",
          "data": {
            "text/html": [
              "<table><thead><tr><th>band</th><th>activeYearsStartYear</th><tr></thead><tbody><tr><td>http://dbpedia.org/resource/My_Chemical_Romance</td><td>2001</td></tr></tbody></table>"
            ],
            "text/plain": [
              "<IPython.core.display.HTML object>"
            ]
          },
          "metadata": {},
          "execution_count": 2
        }
      ]
    },
    {
      "cell_type": "markdown",
      "source": [
        "## 2. Año y lugar de nacimiento del cantante de My Chemical Romance."
      ],
      "metadata": {
        "id": "9OK7wjH7_I2g"
      }
    },
    {
      "cell_type": "code",
      "source": [
        "%%sparql https://dbpedia.org/sparql\n",
        "\n",
        "PREFIX dbo: <http://dbpedia.org/ontology/>\n",
        "\n",
        "\n",
        "SELECT *\n",
        "WHERE\n",
        "     {\n",
        "        ?singer rdfs:label \"Gerard Way\"@en ;\n",
        "                 dbo:birthPlace ?birthPlace ;\n",
        "                  dbo:birthYear ?birthYear .\n",
        "        \n",
        "     }"
      ],
      "metadata": {
        "id": "lS2XbcaVatt8",
        "colab": {
          "base_uri": "https://localhost:8080/",
          "height": 64
        },
        "outputId": "7c3f2310-4e9a-4a94-9488-120fe1d7c2e3"
      },
      "execution_count": 7,
      "outputs": [
        {
          "output_type": "execute_result",
          "data": {
            "text/html": [
              "<table><thead><tr><th>singer</th><th>birthPlace</th><th>birthYear</th><tr></thead><tbody><tr><td>http://dbpedia.org/resource/Gerard_Way</td><td>http://dbpedia.org/resource/Summit,_New_Jersey</td><td>1977</td></tr></tbody></table>"
            ],
            "text/plain": [
              "<IPython.core.display.HTML object>"
            ]
          },
          "metadata": {},
          "execution_count": 7
        }
      ]
    },
    {
      "cell_type": "markdown",
      "source": [
        "##3. Mostrar 10 científicos "
      ],
      "metadata": {
        "id": "RqW69gaYB_aj"
      }
    },
    {
      "cell_type": "code",
      "source": [
        "%%sparql https://dbpedia.org/sparql\n",
        "\n",
        "PREFIX dbo: <http://dbpedia.org/ontology/>\n",
        "PREFIX dbr: <http://es.dbpedia.org/resource/> \n",
        "\n",
        "SELECT *\n",
        "WHERE{\n",
        "  ?person  rdf:type             dbo:Scientist .\n",
        "}\n",
        "\n",
        "LIMIT 10"
      ],
      "metadata": {
        "colab": {
          "base_uri": "https://localhost:8080/",
          "height": 256
        },
        "id": "uEZauqlI9zCt",
        "outputId": "2485f9fc-ef40-4bc2-bc4d-6a7b1edbcafa"
      },
      "execution_count": 22,
      "outputs": [
        {
          "output_type": "execute_result",
          "data": {
            "text/html": [
              "<table><thead><tr><th>person</th><tr></thead><tbody><tr><td>http://dbpedia.org/resource/A._C._Graham</td></tr><tr><td>http://dbpedia.org/resource/Abel_Wolman</td></tr><tr><td>http://dbpedia.org/resource/Adolf_Schulten</td></tr><tr><td>http://dbpedia.org/resource/Adolf_Thiel</td></tr><tr><td>http://dbpedia.org/resource/Adolph_Strecker</td></tr><tr><td>http://dbpedia.org/resource/Alan_Feduccia</td></tr><tr><td>http://dbpedia.org/resource/Alan_Wolffe</td></tr><tr><td>http://dbpedia.org/resource/Alastair_G._W._Cameron</td></tr><tr><td>http://dbpedia.org/resource/Albert_Eschenmoser</td></tr><tr><td>http://dbpedia.org/resource/Albert_J._Libchaber</td></tr></tbody></table>"
            ],
            "text/plain": [
              "<IPython.core.display.HTML object>"
            ]
          },
          "metadata": {},
          "execution_count": 22
        }
      ]
    },
    {
      "cell_type": "markdown",
      "source": [
        "## 4. Mostrar 10 miembros de bandas Grunge"
      ],
      "metadata": {
        "id": "7x6POoQ7C4c1"
      }
    },
    {
      "cell_type": "code",
      "source": [
        "%%sparql https://dbpedia.org/sparql\n",
        "\n",
        "PREFIX dbo: <http://dbpedia.org/ontology/>\n",
        "PREFIX dbp: <http://dbpedia.org/resource/>\n",
        "PREFIX foaf: <http://xmlns.com/foaf/0.1/>\n",
        "\n",
        "SELECT ?name ?bandname where {\n",
        "   ?person foaf:name ?name .\n",
        "   ?band dbo:bandMember ?person .\n",
        "   ?band dbo:genre dbp:Grunge .\n",
        "   ?band foaf:name ?bandname .\n",
        "}\n",
        "\n",
        "LIMIT 10\n",
        "\n",
        "#Referencia: https://es.dbpedia.org/wiki/Wiki.jsp?page=Ejemplos%20de%20consultas%20SPARQL"
      ],
      "metadata": {
        "colab": {
          "base_uri": "https://localhost:8080/",
          "height": 256
        },
        "id": "7aG-w23v_kgQ",
        "outputId": "a1bca364-88c4-40ea-b665-1da925d300e6"
      },
      "execution_count": 49,
      "outputs": [
        {
          "output_type": "execute_result",
          "data": {
            "text/html": [
              "<table><thead><tr><th>name</th><th>bandname</th><tr></thead><tbody><tr><td>Steven McDonald</td><td>Melvins</td></tr><tr><td>Sweet Water</td><td>Sweet Water</td></tr><tr><td>Vinnie Dombroski</td><td>Sponge</td></tr><tr><td>Ariel</td><td>Noah</td></tr><tr><td>Greg Dulli</td><td>The Afghan Whigs</td></tr><tr><td>John Curley</td><td>The Afghan Whigs</td></tr><tr><td>Laser Background</td><td>Speedy Ortiz</td></tr><tr><td>Art Alexakis</td><td>Everclear</td></tr><tr><td>Eddie Vedder</td><td>Pearl Jam</td></tr><tr><td>Gavin Rossdale</td><td>Bush</td></tr></tbody></table>"
            ],
            "text/plain": [
              "<IPython.core.display.HTML object>"
            ]
          },
          "metadata": {},
          "execution_count": 49
        }
      ]
    },
    {
      "cell_type": "markdown",
      "source": [
        "## 5. Diez lugares donde se hablan más idiomas"
      ],
      "metadata": {
        "id": "lkk4D1FLHdEJ"
      }
    },
    {
      "cell_type": "code",
      "source": [
        "%%sparql https://dbpedia.org/sparql\n",
        "\n",
        "PREFIX dbo: <http://dbpedia.org/ontology/>\n",
        "\n",
        "SELECT ?country ?number count(?language) WHERE {\n",
        "    ?country rdf:type dbo:Country  .\n",
        "    ?country dbo:language ?language .\n",
        "}\n",
        "ORDER BY DESC(count(?language)) LIMIT 10"
      ],
      "metadata": {
        "colab": {
          "base_uri": "https://localhost:8080/",
          "height": 256
        },
        "id": "cs5TD4N3Cr3j",
        "outputId": "47217c1d-e08c-4de7-b7ef-166e66f9af4a"
      },
      "execution_count": 48,
      "outputs": [
        {
          "output_type": "execute_result",
          "data": {
            "text/html": [
              "<table><thead><tr><th>country</th><th>number</th><th>callret-2</th><tr></thead><tbody><tr><td>http://dbpedia.org/resource/Southeast_Asia</td><td></td><td>84</td></tr><tr><td>http://dbpedia.org/resource/South_Asia</td><td></td><td>69</td></tr><tr><td>http://dbpedia.org/resource/Middle_East</td><td></td><td>59</td></tr><tr><td>http://dbpedia.org/resource/Caribbean_Community</td><td></td><td>54</td></tr><tr><td>http://dbpedia.org/resource/Nigeria</td><td></td><td>46</td></tr><tr><td>http://dbpedia.org/resource/Benin</td><td></td><td>39</td></tr><tr><td>http://dbpedia.org/resource/Oceania</td><td></td><td>30</td></tr><tr><td>http://dbpedia.org/resource/Spanish_Empire</td><td></td><td>28</td></tr><tr><td>http://dbpedia.org/resource/Indian_people</td><td></td><td>27</td></tr><tr><td>http://dbpedia.org/resource/Soviet_Union</td><td></td><td>26</td></tr></tbody></table>"
            ],
            "text/plain": [
              "<IPython.core.display.HTML object>"
            ]
          },
          "metadata": {},
          "execution_count": 48
        }
      ]
    },
    {
      "cell_type": "code",
      "source": [
        ""
      ],
      "metadata": {
        "id": "KRQfQPGwGaIM"
      },
      "execution_count": null,
      "outputs": []
    }
  ]
}
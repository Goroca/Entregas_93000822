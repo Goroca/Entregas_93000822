{
 "cells": [
  {
   "cell_type": "code",
   "execution_count": 156,
   "id": "e893524e",
   "metadata": {},
   "outputs": [
    {
     "data": {
      "text/html": [
       "\n",
       "    <div class=\"bk-root\">\n",
       "        <a href=\"https://bokeh.org\" target=\"_blank\" class=\"bk-logo bk-logo-small bk-logo-notebook\"></a>\n",
       "        <span id=\"1004\">Loading BokehJS ...</span>\n",
       "    </div>"
      ]
     },
     "metadata": {},
     "output_type": "display_data"
    },
    {
     "data": {
      "application/javascript": [
       "\n",
       "(function(root) {\n",
       "  function now() {\n",
       "    return new Date();\n",
       "  }\n",
       "\n",
       "  const force = true;\n",
       "\n",
       "  if (typeof root._bokeh_onload_callbacks === \"undefined\" || force === true) {\n",
       "    root._bokeh_onload_callbacks = [];\n",
       "    root._bokeh_is_loading = undefined;\n",
       "  }\n",
       "\n",
       "  const JS_MIME_TYPE = 'application/javascript';\n",
       "  const HTML_MIME_TYPE = 'text/html';\n",
       "  const EXEC_MIME_TYPE = 'application/vnd.bokehjs_exec.v0+json';\n",
       "  const CLASS_NAME = 'output_bokeh rendered_html';\n",
       "\n",
       "  /**\n",
       "   * Render data to the DOM node\n",
       "   */\n",
       "  function render(props, node) {\n",
       "    const script = document.createElement(\"script\");\n",
       "    node.appendChild(script);\n",
       "  }\n",
       "\n",
       "  /**\n",
       "   * Handle when an output is cleared or removed\n",
       "   */\n",
       "  function handleClearOutput(event, handle) {\n",
       "    const cell = handle.cell;\n",
       "\n",
       "    const id = cell.output_area._bokeh_element_id;\n",
       "    const server_id = cell.output_area._bokeh_server_id;\n",
       "    // Clean up Bokeh references\n",
       "    if (id != null && id in Bokeh.index) {\n",
       "      Bokeh.index[id].model.document.clear();\n",
       "      delete Bokeh.index[id];\n",
       "    }\n",
       "\n",
       "    if (server_id !== undefined) {\n",
       "      // Clean up Bokeh references\n",
       "      const cmd_clean = \"from bokeh.io.state import curstate; print(curstate().uuid_to_server['\" + server_id + \"'].get_sessions()[0].document.roots[0]._id)\";\n",
       "      cell.notebook.kernel.execute(cmd_clean, {\n",
       "        iopub: {\n",
       "          output: function(msg) {\n",
       "            const id = msg.content.text.trim();\n",
       "            if (id in Bokeh.index) {\n",
       "              Bokeh.index[id].model.document.clear();\n",
       "              delete Bokeh.index[id];\n",
       "            }\n",
       "          }\n",
       "        }\n",
       "      });\n",
       "      // Destroy server and session\n",
       "      const cmd_destroy = \"import bokeh.io.notebook as ion; ion.destroy_server('\" + server_id + \"')\";\n",
       "      cell.notebook.kernel.execute(cmd_destroy);\n",
       "    }\n",
       "  }\n",
       "\n",
       "  /**\n",
       "   * Handle when a new output is added\n",
       "   */\n",
       "  function handleAddOutput(event, handle) {\n",
       "    const output_area = handle.output_area;\n",
       "    const output = handle.output;\n",
       "\n",
       "    // limit handleAddOutput to display_data with EXEC_MIME_TYPE content only\n",
       "    if ((output.output_type != \"display_data\") || (!Object.prototype.hasOwnProperty.call(output.data, EXEC_MIME_TYPE))) {\n",
       "      return\n",
       "    }\n",
       "\n",
       "    const toinsert = output_area.element.find(\".\" + CLASS_NAME.split(' ')[0]);\n",
       "\n",
       "    if (output.metadata[EXEC_MIME_TYPE][\"id\"] !== undefined) {\n",
       "      toinsert[toinsert.length - 1].firstChild.textContent = output.data[JS_MIME_TYPE];\n",
       "      // store reference to embed id on output_area\n",
       "      output_area._bokeh_element_id = output.metadata[EXEC_MIME_TYPE][\"id\"];\n",
       "    }\n",
       "    if (output.metadata[EXEC_MIME_TYPE][\"server_id\"] !== undefined) {\n",
       "      const bk_div = document.createElement(\"div\");\n",
       "      bk_div.innerHTML = output.data[HTML_MIME_TYPE];\n",
       "      const script_attrs = bk_div.children[0].attributes;\n",
       "      for (let i = 0; i < script_attrs.length; i++) {\n",
       "        toinsert[toinsert.length - 1].firstChild.setAttribute(script_attrs[i].name, script_attrs[i].value);\n",
       "        toinsert[toinsert.length - 1].firstChild.textContent = bk_div.children[0].textContent\n",
       "      }\n",
       "      // store reference to server id on output_area\n",
       "      output_area._bokeh_server_id = output.metadata[EXEC_MIME_TYPE][\"server_id\"];\n",
       "    }\n",
       "  }\n",
       "\n",
       "  function register_renderer(events, OutputArea) {\n",
       "\n",
       "    function append_mime(data, metadata, element) {\n",
       "      // create a DOM node to render to\n",
       "      const toinsert = this.create_output_subarea(\n",
       "        metadata,\n",
       "        CLASS_NAME,\n",
       "        EXEC_MIME_TYPE\n",
       "      );\n",
       "      this.keyboard_manager.register_events(toinsert);\n",
       "      // Render to node\n",
       "      const props = {data: data, metadata: metadata[EXEC_MIME_TYPE]};\n",
       "      render(props, toinsert[toinsert.length - 1]);\n",
       "      element.append(toinsert);\n",
       "      return toinsert\n",
       "    }\n",
       "\n",
       "    /* Handle when an output is cleared or removed */\n",
       "    events.on('clear_output.CodeCell', handleClearOutput);\n",
       "    events.on('delete.Cell', handleClearOutput);\n",
       "\n",
       "    /* Handle when a new output is added */\n",
       "    events.on('output_added.OutputArea', handleAddOutput);\n",
       "\n",
       "    /**\n",
       "     * Register the mime type and append_mime function with output_area\n",
       "     */\n",
       "    OutputArea.prototype.register_mime_type(EXEC_MIME_TYPE, append_mime, {\n",
       "      /* Is output safe? */\n",
       "      safe: true,\n",
       "      /* Index of renderer in `output_area.display_order` */\n",
       "      index: 0\n",
       "    });\n",
       "  }\n",
       "\n",
       "  // register the mime type if in Jupyter Notebook environment and previously unregistered\n",
       "  if (root.Jupyter !== undefined) {\n",
       "    const events = require('base/js/events');\n",
       "    const OutputArea = require('notebook/js/outputarea').OutputArea;\n",
       "\n",
       "    if (OutputArea.prototype.mime_types().indexOf(EXEC_MIME_TYPE) == -1) {\n",
       "      register_renderer(events, OutputArea);\n",
       "    }\n",
       "  }\n",
       "\n",
       "  \n",
       "  if (typeof (root._bokeh_timeout) === \"undefined\" || force === true) {\n",
       "    root._bokeh_timeout = Date.now() + 5000;\n",
       "    root._bokeh_failed_load = false;\n",
       "  }\n",
       "\n",
       "  const NB_LOAD_WARNING = {'data': {'text/html':\n",
       "     \"<div style='background-color: #fdd'>\\n\"+\n",
       "     \"<p>\\n\"+\n",
       "     \"BokehJS does not appear to have successfully loaded. If loading BokehJS from CDN, this \\n\"+\n",
       "     \"may be due to a slow or bad network connection. Possible fixes:\\n\"+\n",
       "     \"</p>\\n\"+\n",
       "     \"<ul>\\n\"+\n",
       "     \"<li>re-rerun `output_notebook()` to attempt to load from CDN again, or</li>\\n\"+\n",
       "     \"<li>use INLINE resources instead, as so:</li>\\n\"+\n",
       "     \"</ul>\\n\"+\n",
       "     \"<code>\\n\"+\n",
       "     \"from bokeh.resources import INLINE\\n\"+\n",
       "     \"output_notebook(resources=INLINE)\\n\"+\n",
       "     \"</code>\\n\"+\n",
       "     \"</div>\"}};\n",
       "\n",
       "  function display_loaded() {\n",
       "    const el = document.getElementById(\"1004\");\n",
       "    if (el != null) {\n",
       "      el.textContent = \"BokehJS is loading...\";\n",
       "    }\n",
       "    if (root.Bokeh !== undefined) {\n",
       "      if (el != null) {\n",
       "        el.textContent = \"BokehJS \" + root.Bokeh.version + \" successfully loaded.\";\n",
       "      }\n",
       "    } else if (Date.now() < root._bokeh_timeout) {\n",
       "      setTimeout(display_loaded, 100)\n",
       "    }\n",
       "  }\n",
       "\n",
       "\n",
       "  function run_callbacks() {\n",
       "    try {\n",
       "      root._bokeh_onload_callbacks.forEach(function(callback) {\n",
       "        if (callback != null)\n",
       "          callback();\n",
       "      });\n",
       "    } finally {\n",
       "      delete root._bokeh_onload_callbacks\n",
       "    }\n",
       "    console.debug(\"Bokeh: all callbacks have finished\");\n",
       "  }\n",
       "\n",
       "  function load_libs(css_urls, js_urls, callback) {\n",
       "    if (css_urls == null) css_urls = [];\n",
       "    if (js_urls == null) js_urls = [];\n",
       "\n",
       "    root._bokeh_onload_callbacks.push(callback);\n",
       "    if (root._bokeh_is_loading > 0) {\n",
       "      console.debug(\"Bokeh: BokehJS is being loaded, scheduling callback at\", now());\n",
       "      return null;\n",
       "    }\n",
       "    if (js_urls == null || js_urls.length === 0) {\n",
       "      run_callbacks();\n",
       "      return null;\n",
       "    }\n",
       "    console.debug(\"Bokeh: BokehJS not loaded, scheduling load and callback at\", now());\n",
       "    root._bokeh_is_loading = css_urls.length + js_urls.length;\n",
       "\n",
       "    function on_load() {\n",
       "      root._bokeh_is_loading--;\n",
       "      if (root._bokeh_is_loading === 0) {\n",
       "        console.debug(\"Bokeh: all BokehJS libraries/stylesheets loaded\");\n",
       "        run_callbacks()\n",
       "      }\n",
       "    }\n",
       "\n",
       "    function on_error(url) {\n",
       "      console.error(\"failed to load \" + url);\n",
       "    }\n",
       "\n",
       "    for (let i = 0; i < css_urls.length; i++) {\n",
       "      const url = css_urls[i];\n",
       "      const element = document.createElement(\"link\");\n",
       "      element.onload = on_load;\n",
       "      element.onerror = on_error.bind(null, url);\n",
       "      element.rel = \"stylesheet\";\n",
       "      element.type = \"text/css\";\n",
       "      element.href = url;\n",
       "      console.debug(\"Bokeh: injecting link tag for BokehJS stylesheet: \", url);\n",
       "      document.body.appendChild(element);\n",
       "    }\n",
       "\n",
       "    for (let i = 0; i < js_urls.length; i++) {\n",
       "      const url = js_urls[i];\n",
       "      const element = document.createElement('script');\n",
       "      element.onload = on_load;\n",
       "      element.onerror = on_error.bind(null, url);\n",
       "      element.async = false;\n",
       "      element.src = url;\n",
       "      console.debug(\"Bokeh: injecting script tag for BokehJS library: \", url);\n",
       "      document.head.appendChild(element);\n",
       "    }\n",
       "  };\n",
       "\n",
       "  function inject_raw_css(css) {\n",
       "    const element = document.createElement(\"style\");\n",
       "    element.appendChild(document.createTextNode(css));\n",
       "    document.body.appendChild(element);\n",
       "  }\n",
       "\n",
       "  \n",
       "  const js_urls = [\"https://cdn.bokeh.org/bokeh/release/bokeh-2.4.2.min.js\", \"https://cdn.bokeh.org/bokeh/release/bokeh-gl-2.4.2.min.js\", \"https://cdn.bokeh.org/bokeh/release/bokeh-widgets-2.4.2.min.js\", \"https://cdn.bokeh.org/bokeh/release/bokeh-tables-2.4.2.min.js\", \"https://cdn.bokeh.org/bokeh/release/bokeh-mathjax-2.4.2.min.js\"];\n",
       "  const css_urls = [];\n",
       "  \n",
       "\n",
       "  const inline_js = [\n",
       "    function(Bokeh) {\n",
       "      Bokeh.set_log_level(\"info\");\n",
       "    },\n",
       "    function(Bokeh) {\n",
       "    \n",
       "    \n",
       "    }\n",
       "  ];\n",
       "\n",
       "  function run_inline_js() {\n",
       "    \n",
       "    if (root.Bokeh !== undefined || force === true) {\n",
       "      \n",
       "    for (let i = 0; i < inline_js.length; i++) {\n",
       "      inline_js[i].call(root, root.Bokeh);\n",
       "    }\n",
       "    if (force === true) {\n",
       "        display_loaded();\n",
       "      }} else if (Date.now() < root._bokeh_timeout) {\n",
       "      setTimeout(run_inline_js, 100);\n",
       "    } else if (!root._bokeh_failed_load) {\n",
       "      console.log(\"Bokeh: BokehJS failed to load within specified timeout.\");\n",
       "      root._bokeh_failed_load = true;\n",
       "    } else if (force !== true) {\n",
       "      const cell = $(document.getElementById(\"1004\")).parents('.cell').data().cell;\n",
       "      cell.output_area.append_execute_result(NB_LOAD_WARNING)\n",
       "    }\n",
       "\n",
       "  }\n",
       "\n",
       "  if (root._bokeh_is_loading === 0) {\n",
       "    console.debug(\"Bokeh: BokehJS loaded, going straight to plotting\");\n",
       "    run_inline_js();\n",
       "  } else {\n",
       "    load_libs(css_urls, js_urls, function() {\n",
       "      console.debug(\"Bokeh: BokehJS plotting callback run at\", now());\n",
       "      run_inline_js();\n",
       "    });\n",
       "  }\n",
       "}(window));"
      ],
      "application/vnd.bokehjs_load.v0+json": "\n(function(root) {\n  function now() {\n    return new Date();\n  }\n\n  const force = true;\n\n  if (typeof root._bokeh_onload_callbacks === \"undefined\" || force === true) {\n    root._bokeh_onload_callbacks = [];\n    root._bokeh_is_loading = undefined;\n  }\n\n  \n\n  \n  if (typeof (root._bokeh_timeout) === \"undefined\" || force === true) {\n    root._bokeh_timeout = Date.now() + 5000;\n    root._bokeh_failed_load = false;\n  }\n\n  const NB_LOAD_WARNING = {'data': {'text/html':\n     \"<div style='background-color: #fdd'>\\n\"+\n     \"<p>\\n\"+\n     \"BokehJS does not appear to have successfully loaded. If loading BokehJS from CDN, this \\n\"+\n     \"may be due to a slow or bad network connection. Possible fixes:\\n\"+\n     \"</p>\\n\"+\n     \"<ul>\\n\"+\n     \"<li>re-rerun `output_notebook()` to attempt to load from CDN again, or</li>\\n\"+\n     \"<li>use INLINE resources instead, as so:</li>\\n\"+\n     \"</ul>\\n\"+\n     \"<code>\\n\"+\n     \"from bokeh.resources import INLINE\\n\"+\n     \"output_notebook(resources=INLINE)\\n\"+\n     \"</code>\\n\"+\n     \"</div>\"}};\n\n  function display_loaded() {\n    const el = document.getElementById(\"1004\");\n    if (el != null) {\n      el.textContent = \"BokehJS is loading...\";\n    }\n    if (root.Bokeh !== undefined) {\n      if (el != null) {\n        el.textContent = \"BokehJS \" + root.Bokeh.version + \" successfully loaded.\";\n      }\n    } else if (Date.now() < root._bokeh_timeout) {\n      setTimeout(display_loaded, 100)\n    }\n  }\n\n\n  function run_callbacks() {\n    try {\n      root._bokeh_onload_callbacks.forEach(function(callback) {\n        if (callback != null)\n          callback();\n      });\n    } finally {\n      delete root._bokeh_onload_callbacks\n    }\n    console.debug(\"Bokeh: all callbacks have finished\");\n  }\n\n  function load_libs(css_urls, js_urls, callback) {\n    if (css_urls == null) css_urls = [];\n    if (js_urls == null) js_urls = [];\n\n    root._bokeh_onload_callbacks.push(callback);\n    if (root._bokeh_is_loading > 0) {\n      console.debug(\"Bokeh: BokehJS is being loaded, scheduling callback at\", now());\n      return null;\n    }\n    if (js_urls == null || js_urls.length === 0) {\n      run_callbacks();\n      return null;\n    }\n    console.debug(\"Bokeh: BokehJS not loaded, scheduling load and callback at\", now());\n    root._bokeh_is_loading = css_urls.length + js_urls.length;\n\n    function on_load() {\n      root._bokeh_is_loading--;\n      if (root._bokeh_is_loading === 0) {\n        console.debug(\"Bokeh: all BokehJS libraries/stylesheets loaded\");\n        run_callbacks()\n      }\n    }\n\n    function on_error(url) {\n      console.error(\"failed to load \" + url);\n    }\n\n    for (let i = 0; i < css_urls.length; i++) {\n      const url = css_urls[i];\n      const element = document.createElement(\"link\");\n      element.onload = on_load;\n      element.onerror = on_error.bind(null, url);\n      element.rel = \"stylesheet\";\n      element.type = \"text/css\";\n      element.href = url;\n      console.debug(\"Bokeh: injecting link tag for BokehJS stylesheet: \", url);\n      document.body.appendChild(element);\n    }\n\n    for (let i = 0; i < js_urls.length; i++) {\n      const url = js_urls[i];\n      const element = document.createElement('script');\n      element.onload = on_load;\n      element.onerror = on_error.bind(null, url);\n      element.async = false;\n      element.src = url;\n      console.debug(\"Bokeh: injecting script tag for BokehJS library: \", url);\n      document.head.appendChild(element);\n    }\n  };\n\n  function inject_raw_css(css) {\n    const element = document.createElement(\"style\");\n    element.appendChild(document.createTextNode(css));\n    document.body.appendChild(element);\n  }\n\n  \n  const js_urls = [\"https://cdn.bokeh.org/bokeh/release/bokeh-2.4.2.min.js\", \"https://cdn.bokeh.org/bokeh/release/bokeh-gl-2.4.2.min.js\", \"https://cdn.bokeh.org/bokeh/release/bokeh-widgets-2.4.2.min.js\", \"https://cdn.bokeh.org/bokeh/release/bokeh-tables-2.4.2.min.js\", \"https://cdn.bokeh.org/bokeh/release/bokeh-mathjax-2.4.2.min.js\"];\n  const css_urls = [];\n  \n\n  const inline_js = [\n    function(Bokeh) {\n      Bokeh.set_log_level(\"info\");\n    },\n    function(Bokeh) {\n    \n    \n    }\n  ];\n\n  function run_inline_js() {\n    \n    if (root.Bokeh !== undefined || force === true) {\n      \n    for (let i = 0; i < inline_js.length; i++) {\n      inline_js[i].call(root, root.Bokeh);\n    }\n    if (force === true) {\n        display_loaded();\n      }} else if (Date.now() < root._bokeh_timeout) {\n      setTimeout(run_inline_js, 100);\n    } else if (!root._bokeh_failed_load) {\n      console.log(\"Bokeh: BokehJS failed to load within specified timeout.\");\n      root._bokeh_failed_load = true;\n    } else if (force !== true) {\n      const cell = $(document.getElementById(\"1004\")).parents('.cell').data().cell;\n      cell.output_area.append_execute_result(NB_LOAD_WARNING)\n    }\n\n  }\n\n  if (root._bokeh_is_loading === 0) {\n    console.debug(\"Bokeh: BokehJS loaded, going straight to plotting\");\n    run_inline_js();\n  } else {\n    load_libs(css_urls, js_urls, function() {\n      console.debug(\"Bokeh: BokehJS plotting callback run at\", now());\n      run_inline_js();\n    });\n  }\n}(window));"
     },
     "metadata": {},
     "output_type": "display_data"
    }
   ],
   "source": [
    "import matplotlib.pyplot as plt \n",
    "%matplotlib inline\n",
    "import pandas as pd\n",
    "import numpy as np\n",
    "from skimage import io\n",
    "from IPython import display\n",
    "from bokeh.io import output_notebook, show\n",
    "from bokeh.plotting import figure\n",
    "output_notebook()\n",
    "\n",
    "import pandas as pd\n",
    "\n",
    "import seaborn as sns\n",
    "import matplotlib.pyplot as plt\n",
    "import numpy as np\n",
    "sns.set(color_codes=True)"
   ]
  },
  {
   "cell_type": "markdown",
   "id": "6883f6d1",
   "metadata": {},
   "source": [
    "__Problem:__ a partir de data de banques variées sur des prets acceptés ou non à des entreprises, prédire si un pret va etre accepté par la banque ou non ?\n",
    "20 attributs differents, 1 variable objectif(class/label): Accept (0=NO, 1=YES)"
   ]
  },
  {
   "cell_type": "code",
   "execution_count": 157,
   "id": "6bfc9987",
   "metadata": {},
   "outputs": [
    {
     "name": "stderr",
     "output_type": "stream",
     "text": [
      "/var/folders/jj/m28xy22x5w74b624rj27hpn80000gn/T/ipykernel_11378/2251491112.py:1: DtypeWarning: Columns (8) have mixed types. Specify dtype option on import or set low_memory=False.\n",
      "  df = pd.read_csv('loan-approval-prediction-new-york/train.csv')\n"
     ]
    },
    {
     "data": {
      "text/html": [
       "<div>\n",
       "<style scoped>\n",
       "    .dataframe tbody tr th:only-of-type {\n",
       "        vertical-align: middle;\n",
       "    }\n",
       "\n",
       "    .dataframe tbody tr th {\n",
       "        vertical-align: top;\n",
       "    }\n",
       "\n",
       "    .dataframe thead th {\n",
       "        text-align: right;\n",
       "    }\n",
       "</style>\n",
       "<table border=\"1\" class=\"dataframe\">\n",
       "  <thead>\n",
       "    <tr style=\"text-align: right;\">\n",
       "      <th></th>\n",
       "      <th>id</th>\n",
       "      <th>LoanNr_ChkDgt</th>\n",
       "      <th>Name</th>\n",
       "      <th>City</th>\n",
       "      <th>State</th>\n",
       "      <th>Bank</th>\n",
       "      <th>BankState</th>\n",
       "      <th>ApprovalDate</th>\n",
       "      <th>ApprovalFY</th>\n",
       "      <th>NoEmp</th>\n",
       "      <th>...</th>\n",
       "      <th>CreateJob</th>\n",
       "      <th>RetainedJob</th>\n",
       "      <th>FranchiseCode</th>\n",
       "      <th>UrbanRural</th>\n",
       "      <th>RevLineCr</th>\n",
       "      <th>LowDoc</th>\n",
       "      <th>DisbursementDate</th>\n",
       "      <th>DisbursementGross</th>\n",
       "      <th>BalanceGross</th>\n",
       "      <th>Accept</th>\n",
       "    </tr>\n",
       "  </thead>\n",
       "  <tbody>\n",
       "    <tr>\n",
       "      <th>0</th>\n",
       "      <td>b353a0b461c</td>\n",
       "      <td>3354343008</td>\n",
       "      <td>TOGETHER GARGOYLES, INC.</td>\n",
       "      <td>BROOKLYN</td>\n",
       "      <td>NY</td>\n",
       "      <td>JPMORGAN CHASE BANK NATL ASSOC</td>\n",
       "      <td>NY</td>\n",
       "      <td>21-Dec-88</td>\n",
       "      <td>1989</td>\n",
       "      <td>20</td>\n",
       "      <td>...</td>\n",
       "      <td>0</td>\n",
       "      <td>0</td>\n",
       "      <td>0</td>\n",
       "      <td>0</td>\n",
       "      <td>N</td>\n",
       "      <td>N</td>\n",
       "      <td>30-Apr-89</td>\n",
       "      <td>$350,000.00</td>\n",
       "      <td>$0.00</td>\n",
       "      <td>1</td>\n",
       "    </tr>\n",
       "    <tr>\n",
       "      <th>1</th>\n",
       "      <td>cca24bbcc48</td>\n",
       "      <td>2349745003</td>\n",
       "      <td>LAWRENCE K. ALTHISER DBA LARRY</td>\n",
       "      <td>HARTWICK</td>\n",
       "      <td>NY</td>\n",
       "      <td>CITIZENS BANK NATL ASSOC</td>\n",
       "      <td>RI</td>\n",
       "      <td>23-Mar-07</td>\n",
       "      <td>2007</td>\n",
       "      <td>3</td>\n",
       "      <td>...</td>\n",
       "      <td>1</td>\n",
       "      <td>4</td>\n",
       "      <td>0</td>\n",
       "      <td>2</td>\n",
       "      <td>N</td>\n",
       "      <td>N</td>\n",
       "      <td>30-Apr-07</td>\n",
       "      <td>$35,000.00</td>\n",
       "      <td>$0.00</td>\n",
       "      <td>1</td>\n",
       "    </tr>\n",
       "    <tr>\n",
       "      <th>2</th>\n",
       "      <td>e60644381ce</td>\n",
       "      <td>6007284009</td>\n",
       "      <td>TAAMEER CONSTRUCTION INC</td>\n",
       "      <td>BROOKLYN (BOROUGH OF NEW YORK)</td>\n",
       "      <td>NY</td>\n",
       "      <td>JPMORGAN CHASE BANK NATL ASSOC</td>\n",
       "      <td>IL</td>\n",
       "      <td>9-Jan-03</td>\n",
       "      <td>2003</td>\n",
       "      <td>5</td>\n",
       "      <td>...</td>\n",
       "      <td>0</td>\n",
       "      <td>5</td>\n",
       "      <td>1</td>\n",
       "      <td>1</td>\n",
       "      <td>0</td>\n",
       "      <td>N</td>\n",
       "      <td>31-Jan-03</td>\n",
       "      <td>$50,000.00</td>\n",
       "      <td>$0.00</td>\n",
       "      <td>1</td>\n",
       "    </tr>\n",
       "    <tr>\n",
       "      <th>3</th>\n",
       "      <td>ffca41a2760</td>\n",
       "      <td>6047703002</td>\n",
       "      <td>CENTRAL CONTROL SYSTEMS, INC.</td>\n",
       "      <td>SYRACUSE</td>\n",
       "      <td>NY</td>\n",
       "      <td>MANUFACTURERS &amp; TRADERS TR CO</td>\n",
       "      <td>NY</td>\n",
       "      <td>10-Nov-93</td>\n",
       "      <td>1994</td>\n",
       "      <td>25</td>\n",
       "      <td>...</td>\n",
       "      <td>0</td>\n",
       "      <td>0</td>\n",
       "      <td>1</td>\n",
       "      <td>0</td>\n",
       "      <td>N</td>\n",
       "      <td>N</td>\n",
       "      <td>31-Jan-94</td>\n",
       "      <td>$190,000.00</td>\n",
       "      <td>$0.00</td>\n",
       "      <td>1</td>\n",
       "    </tr>\n",
       "    <tr>\n",
       "      <th>4</th>\n",
       "      <td>79e48255003</td>\n",
       "      <td>6590164004</td>\n",
       "      <td>METRO SALON</td>\n",
       "      <td>ROCHESTER</td>\n",
       "      <td>NY</td>\n",
       "      <td>MANUFACTURERS &amp; TRADERS TR CO</td>\n",
       "      <td>NY</td>\n",
       "      <td>14-Aug-03</td>\n",
       "      <td>2003</td>\n",
       "      <td>6</td>\n",
       "      <td>...</td>\n",
       "      <td>0</td>\n",
       "      <td>0</td>\n",
       "      <td>1</td>\n",
       "      <td>1</td>\n",
       "      <td>0</td>\n",
       "      <td>Y</td>\n",
       "      <td>30-Sep-03</td>\n",
       "      <td>$30,000.00</td>\n",
       "      <td>$0.00</td>\n",
       "      <td>1</td>\n",
       "    </tr>\n",
       "  </tbody>\n",
       "</table>\n",
       "<p>5 rows × 21 columns</p>\n",
       "</div>"
      ],
      "text/plain": [
       "            id  LoanNr_ChkDgt                            Name  \\\n",
       "0  b353a0b461c     3354343008        TOGETHER GARGOYLES, INC.   \n",
       "1  cca24bbcc48     2349745003  LAWRENCE K. ALTHISER DBA LARRY   \n",
       "2  e60644381ce     6007284009        TAAMEER CONSTRUCTION INC   \n",
       "3  ffca41a2760     6047703002   CENTRAL CONTROL SYSTEMS, INC.   \n",
       "4  79e48255003     6590164004                     METRO SALON   \n",
       "\n",
       "                             City State                            Bank  \\\n",
       "0                        BROOKLYN    NY  JPMORGAN CHASE BANK NATL ASSOC   \n",
       "1                        HARTWICK    NY        CITIZENS BANK NATL ASSOC   \n",
       "2  BROOKLYN (BOROUGH OF NEW YORK)    NY  JPMORGAN CHASE BANK NATL ASSOC   \n",
       "3                        SYRACUSE    NY   MANUFACTURERS & TRADERS TR CO   \n",
       "4                       ROCHESTER    NY   MANUFACTURERS & TRADERS TR CO   \n",
       "\n",
       "  BankState ApprovalDate ApprovalFY  NoEmp  ...  CreateJob  RetainedJob  \\\n",
       "0        NY    21-Dec-88       1989     20  ...          0            0   \n",
       "1        RI    23-Mar-07       2007      3  ...          1            4   \n",
       "2        IL     9-Jan-03       2003      5  ...          0            5   \n",
       "3        NY    10-Nov-93       1994     25  ...          0            0   \n",
       "4        NY    14-Aug-03       2003      6  ...          0            0   \n",
       "\n",
       "   FranchiseCode  UrbanRural  RevLineCr LowDoc DisbursementDate  \\\n",
       "0              0           0          N      N        30-Apr-89   \n",
       "1              0           2          N      N        30-Apr-07   \n",
       "2              1           1          0      N        31-Jan-03   \n",
       "3              1           0          N      N        31-Jan-94   \n",
       "4              1           1          0      Y        30-Sep-03   \n",
       "\n",
       "  DisbursementGross BalanceGross Accept  \n",
       "0      $350,000.00        $0.00       1  \n",
       "1       $35,000.00        $0.00       1  \n",
       "2       $50,000.00        $0.00       1  \n",
       "3      $190,000.00        $0.00       1  \n",
       "4       $30,000.00        $0.00       1  \n",
       "\n",
       "[5 rows x 21 columns]"
      ]
     },
     "execution_count": 157,
     "metadata": {},
     "output_type": "execute_result"
    }
   ],
   "source": [
    "df = pd.read_csv('loan-approval-prediction-new-york/train.csv')\n",
    "df.head()"
   ]
  },
  {
   "cell_type": "code",
   "execution_count": 158,
   "id": "24f32111",
   "metadata": {},
   "outputs": [
    {
     "data": {
      "text/html": [
       "<div>\n",
       "<style scoped>\n",
       "    .dataframe tbody tr th:only-of-type {\n",
       "        vertical-align: middle;\n",
       "    }\n",
       "\n",
       "    .dataframe tbody tr th {\n",
       "        vertical-align: top;\n",
       "    }\n",
       "\n",
       "    .dataframe thead th {\n",
       "        text-align: right;\n",
       "    }\n",
       "</style>\n",
       "<table border=\"1\" class=\"dataframe\">\n",
       "  <thead>\n",
       "    <tr style=\"text-align: right;\">\n",
       "      <th></th>\n",
       "      <th>id</th>\n",
       "      <th>LoanNr_ChkDgt</th>\n",
       "      <th>Name</th>\n",
       "      <th>City</th>\n",
       "      <th>State</th>\n",
       "      <th>Bank</th>\n",
       "      <th>BankState</th>\n",
       "      <th>ApprovalDate</th>\n",
       "      <th>ApprovalFY</th>\n",
       "      <th>NoEmp</th>\n",
       "      <th>...</th>\n",
       "      <th>FranchiseCode</th>\n",
       "      <th>UrbanRural</th>\n",
       "      <th>RevLineCr</th>\n",
       "      <th>LowDoc</th>\n",
       "      <th>DisbursementDate</th>\n",
       "      <th>DisbursementGross</th>\n",
       "      <th>BalanceGross</th>\n",
       "      <th>Accept</th>\n",
       "      <th>Disb Gross</th>\n",
       "      <th>Balance Gross</th>\n",
       "    </tr>\n",
       "  </thead>\n",
       "  <tbody>\n",
       "    <tr>\n",
       "      <th>0</th>\n",
       "      <td>b353a0b461c</td>\n",
       "      <td>3354343008</td>\n",
       "      <td>TOGETHER GARGOYLES, INC.</td>\n",
       "      <td>BROOKLYN</td>\n",
       "      <td>NY</td>\n",
       "      <td>JPMORGAN CHASE BANK NATL ASSOC</td>\n",
       "      <td>NY</td>\n",
       "      <td>21-Dec-88</td>\n",
       "      <td>1989</td>\n",
       "      <td>20</td>\n",
       "      <td>...</td>\n",
       "      <td>0</td>\n",
       "      <td>0</td>\n",
       "      <td>N</td>\n",
       "      <td>N</td>\n",
       "      <td>30-Apr-89</td>\n",
       "      <td>$350,000.00</td>\n",
       "      <td>$0.00</td>\n",
       "      <td>1</td>\n",
       "      <td>350</td>\n",
       "      <td>0.00</td>\n",
       "    </tr>\n",
       "    <tr>\n",
       "      <th>1</th>\n",
       "      <td>cca24bbcc48</td>\n",
       "      <td>2349745003</td>\n",
       "      <td>LAWRENCE K. ALTHISER DBA LARRY</td>\n",
       "      <td>HARTWICK</td>\n",
       "      <td>NY</td>\n",
       "      <td>CITIZENS BANK NATL ASSOC</td>\n",
       "      <td>RI</td>\n",
       "      <td>23-Mar-07</td>\n",
       "      <td>2007</td>\n",
       "      <td>3</td>\n",
       "      <td>...</td>\n",
       "      <td>0</td>\n",
       "      <td>2</td>\n",
       "      <td>N</td>\n",
       "      <td>N</td>\n",
       "      <td>30-Apr-07</td>\n",
       "      <td>$35,000.00</td>\n",
       "      <td>$0.00</td>\n",
       "      <td>1</td>\n",
       "      <td>35</td>\n",
       "      <td>0.00</td>\n",
       "    </tr>\n",
       "    <tr>\n",
       "      <th>2</th>\n",
       "      <td>e60644381ce</td>\n",
       "      <td>6007284009</td>\n",
       "      <td>TAAMEER CONSTRUCTION INC</td>\n",
       "      <td>BROOKLYN (BOROUGH OF NEW YORK)</td>\n",
       "      <td>NY</td>\n",
       "      <td>JPMORGAN CHASE BANK NATL ASSOC</td>\n",
       "      <td>IL</td>\n",
       "      <td>9-Jan-03</td>\n",
       "      <td>2003</td>\n",
       "      <td>5</td>\n",
       "      <td>...</td>\n",
       "      <td>1</td>\n",
       "      <td>1</td>\n",
       "      <td>0</td>\n",
       "      <td>N</td>\n",
       "      <td>31-Jan-03</td>\n",
       "      <td>$50,000.00</td>\n",
       "      <td>$0.00</td>\n",
       "      <td>1</td>\n",
       "      <td>50</td>\n",
       "      <td>0.00</td>\n",
       "    </tr>\n",
       "    <tr>\n",
       "      <th>3</th>\n",
       "      <td>ffca41a2760</td>\n",
       "      <td>6047703002</td>\n",
       "      <td>CENTRAL CONTROL SYSTEMS, INC.</td>\n",
       "      <td>SYRACUSE</td>\n",
       "      <td>NY</td>\n",
       "      <td>MANUFACTURERS &amp; TRADERS TR CO</td>\n",
       "      <td>NY</td>\n",
       "      <td>10-Nov-93</td>\n",
       "      <td>1994</td>\n",
       "      <td>25</td>\n",
       "      <td>...</td>\n",
       "      <td>1</td>\n",
       "      <td>0</td>\n",
       "      <td>N</td>\n",
       "      <td>N</td>\n",
       "      <td>31-Jan-94</td>\n",
       "      <td>$190,000.00</td>\n",
       "      <td>$0.00</td>\n",
       "      <td>1</td>\n",
       "      <td>190</td>\n",
       "      <td>0.00</td>\n",
       "    </tr>\n",
       "    <tr>\n",
       "      <th>4</th>\n",
       "      <td>79e48255003</td>\n",
       "      <td>6590164004</td>\n",
       "      <td>METRO SALON</td>\n",
       "      <td>ROCHESTER</td>\n",
       "      <td>NY</td>\n",
       "      <td>MANUFACTURERS &amp; TRADERS TR CO</td>\n",
       "      <td>NY</td>\n",
       "      <td>14-Aug-03</td>\n",
       "      <td>2003</td>\n",
       "      <td>6</td>\n",
       "      <td>...</td>\n",
       "      <td>1</td>\n",
       "      <td>1</td>\n",
       "      <td>0</td>\n",
       "      <td>Y</td>\n",
       "      <td>30-Sep-03</td>\n",
       "      <td>$30,000.00</td>\n",
       "      <td>$0.00</td>\n",
       "      <td>1</td>\n",
       "      <td>30</td>\n",
       "      <td>0.00</td>\n",
       "    </tr>\n",
       "  </tbody>\n",
       "</table>\n",
       "<p>5 rows × 23 columns</p>\n",
       "</div>"
      ],
      "text/plain": [
       "            id  LoanNr_ChkDgt                            Name  \\\n",
       "0  b353a0b461c     3354343008        TOGETHER GARGOYLES, INC.   \n",
       "1  cca24bbcc48     2349745003  LAWRENCE K. ALTHISER DBA LARRY   \n",
       "2  e60644381ce     6007284009        TAAMEER CONSTRUCTION INC   \n",
       "3  ffca41a2760     6047703002   CENTRAL CONTROL SYSTEMS, INC.   \n",
       "4  79e48255003     6590164004                     METRO SALON   \n",
       "\n",
       "                             City State                            Bank  \\\n",
       "0                        BROOKLYN    NY  JPMORGAN CHASE BANK NATL ASSOC   \n",
       "1                        HARTWICK    NY        CITIZENS BANK NATL ASSOC   \n",
       "2  BROOKLYN (BOROUGH OF NEW YORK)    NY  JPMORGAN CHASE BANK NATL ASSOC   \n",
       "3                        SYRACUSE    NY   MANUFACTURERS & TRADERS TR CO   \n",
       "4                       ROCHESTER    NY   MANUFACTURERS & TRADERS TR CO   \n",
       "\n",
       "  BankState ApprovalDate ApprovalFY  NoEmp  ...  FranchiseCode  UrbanRural  \\\n",
       "0        NY    21-Dec-88       1989     20  ...              0           0   \n",
       "1        RI    23-Mar-07       2007      3  ...              0           2   \n",
       "2        IL     9-Jan-03       2003      5  ...              1           1   \n",
       "3        NY    10-Nov-93       1994     25  ...              1           0   \n",
       "4        NY    14-Aug-03       2003      6  ...              1           1   \n",
       "\n",
       "   RevLineCr  LowDoc  DisbursementDate DisbursementGross BalanceGross Accept  \\\n",
       "0          N       N         30-Apr-89      $350,000.00        $0.00       1   \n",
       "1          N       N         30-Apr-07       $35,000.00        $0.00       1   \n",
       "2          0       N         31-Jan-03       $50,000.00        $0.00       1   \n",
       "3          N       N         31-Jan-94      $190,000.00        $0.00       1   \n",
       "4          0       Y         30-Sep-03       $30,000.00        $0.00       1   \n",
       "\n",
       "  Disb Gross Balance Gross  \n",
       "0        350         0.00   \n",
       "1         35         0.00   \n",
       "2         50         0.00   \n",
       "3        190         0.00   \n",
       "4         30         0.00   \n",
       "\n",
       "[5 rows x 23 columns]"
      ]
     },
     "execution_count": 158,
     "metadata": {},
     "output_type": "execute_result"
    }
   ],
   "source": [
    "def gross_extract(word):  #to remove the '$'sign \n",
    "    return word.split('$')[1].split(',')[0]\n",
    "\n",
    "df['Disb Gross'] = df['DisbursementGross'].apply(gross_extract)\n",
    "df['Balance Gross'] = df['BalanceGross'].apply(gross_extract)\n",
    "df.head()"
   ]
  },
  {
   "cell_type": "code",
   "execution_count": 159,
   "id": "e4e2f81c",
   "metadata": {},
   "outputs": [
    {
     "name": "stdout",
     "output_type": "stream",
     "text": [
      "Index(['id', 'LoanNr_ChkDgt', 'Name', 'City', 'State', 'Bank', 'BankState',\n",
      "       'ApprovalDate', 'ApprovalFY', 'NoEmp', 'NewExist', 'CreateJob',\n",
      "       'RetainedJob', 'FranchiseCode', 'UrbanRural', 'RevLineCr', 'LowDoc',\n",
      "       'DisbursementDate', 'DisbursementGross', 'BalanceGross', 'Accept',\n",
      "       'Disb Gross', 'Balance Gross'],\n",
      "      dtype='object') shape :  (40385, 23)\n"
     ]
    }
   ],
   "source": [
    "print(df.columns, 'shape : ' , df.shape)#les 21 attributs"
   ]
  },
  {
   "cell_type": "code",
   "execution_count": 160,
   "id": "2de09960",
   "metadata": {},
   "outputs": [],
   "source": [
    "#df.describe()"
   ]
  },
  {
   "cell_type": "markdown",
   "id": "10a035d4",
   "metadata": {},
   "source": [
    "# Graph visualization\n",
    "Too see 'Accept' proportion in function of each parameter "
   ]
  },
  {
   "cell_type": "code",
   "execution_count": 161,
   "id": "e4a6bf07",
   "metadata": {},
   "outputs": [],
   "source": [
    "#df.hist(figsize=(10,10))\n",
    "#plt.show()"
   ]
  },
  {
   "cell_type": "code",
   "execution_count": 162,
   "id": "0ba63a38",
   "metadata": {},
   "outputs": [],
   "source": [
    "#df.hist(column='LowDoc', by='Accept', sharey=True)"
   ]
  },
  {
   "cell_type": "code",
   "execution_count": 163,
   "id": "138de397",
   "metadata": {},
   "outputs": [],
   "source": [
    "#df.hist(column='RevLineCr', by='Accept', sharey=True)"
   ]
  },
  {
   "cell_type": "code",
   "execution_count": 164,
   "id": "63af9375",
   "metadata": {},
   "outputs": [],
   "source": [
    "#df.hist(column='UrbanRural', by='Accept', sharey=True)"
   ]
  },
  {
   "cell_type": "code",
   "execution_count": 165,
   "id": "48155ac1",
   "metadata": {},
   "outputs": [],
   "source": [
    "#sns.barplot(x='LowDoc', y='Accept', data=df) # LowDoc Loan Program: Y = Yes, N = No"
   ]
  },
  {
   "cell_type": "code",
   "execution_count": 166,
   "id": "b9a1bff3",
   "metadata": {},
   "outputs": [],
   "source": [
    "#sns.barplot(x='NewExist', y='Accept', data=df)"
   ]
  },
  {
   "cell_type": "code",
   "execution_count": 167,
   "id": "63450942",
   "metadata": {},
   "outputs": [],
   "source": [
    "#sns.barplot(x='RevLineCr', y='Accept', data=df) # Revolving line of credit: Y = Yes, N = No"
   ]
  },
  {
   "cell_type": "code",
   "execution_count": 168,
   "id": "fa51c97a",
   "metadata": {
    "scrolled": true
   },
   "outputs": [],
   "source": [
    "#sns.barplot(x='UrbanRural', y='Accept', data=df) # 1 = Urban, 2 = rural, 0 = undefined"
   ]
  },
  {
   "cell_type": "code",
   "execution_count": 169,
   "id": "06791cbd",
   "metadata": {
    "scrolled": true
   },
   "outputs": [],
   "source": [
    "#sns.barplot(x='BankState', y='Accept', data=df)"
   ]
  },
  {
   "cell_type": "code",
   "execution_count": 170,
   "id": "e62de9a8",
   "metadata": {},
   "outputs": [],
   "source": [
    "#df.groupby('CreateJob').Accept.mean().plot()"
   ]
  },
  {
   "cell_type": "code",
   "execution_count": 171,
   "id": "bd0633e7",
   "metadata": {},
   "outputs": [],
   "source": [
    "#df.groupby('RetainedJob').Accept.mean().plot()"
   ]
  },
  {
   "cell_type": "markdown",
   "id": "338a3625",
   "metadata": {},
   "source": [
    "# Parameter analysis and Processing \n",
    "To know the possible values for the parameters and their numbers. Remove nan and assign most common value. Convert some character into 0 and 1 : "
   ]
  },
  {
   "cell_type": "code",
   "execution_count": 172,
   "id": "62b89c5e",
   "metadata": {},
   "outputs": [
    {
     "name": "stdout",
     "output_type": "stream",
     "text": [
      "['BROOKLYN' 'HARTWICK' 'BROOKLYN (BOROUGH OF NEW YORK)' ... 'OCEQNSIDE'\n",
      " 'LITTLE YORK' 'ELLERY']\n"
     ]
    },
    {
     "data": {
      "text/plain": [
       "(2552,)"
      ]
     },
     "execution_count": 172,
     "metadata": {},
     "output_type": "execute_result"
    }
   ],
   "source": [
    "print(df['City'].unique()) #bcp de villes (2552), non utilisable ?\n",
    "df['City'].unique().shape"
   ]
  },
  {
   "cell_type": "code",
   "execution_count": 173,
   "id": "e35f6ce9",
   "metadata": {
    "scrolled": true
   },
   "outputs": [
    {
     "data": {
      "text/plain": [
       "(1,)"
      ]
     },
     "execution_count": 173,
     "metadata": {},
     "output_type": "execute_result"
    }
   ],
   "source": [
    "df['State'].unique().shape #todos son de NY, unrelevant feature"
   ]
  },
  {
   "cell_type": "code",
   "execution_count": 174,
   "id": "9be937ad",
   "metadata": {},
   "outputs": [
    {
     "data": {
      "text/plain": [
       "array(['N', 'Y', nan, '0', 'R', 'C', 'S', 'A'], dtype=object)"
      ]
     },
     "execution_count": 174,
     "metadata": {},
     "output_type": "execute_result"
    }
   ],
   "source": [
    "df['LowDoc'].unique() # pas que des yes ou no , que veut dire R ? C ? "
   ]
  },
  {
   "cell_type": "code",
   "execution_count": 175,
   "id": "e8c6bc37",
   "metadata": {
    "scrolled": true
   },
   "outputs": [
    {
     "data": {
      "text/plain": [
       "array(['N', '0', 'Y', 'T', nan], dtype=object)"
      ]
     },
     "execution_count": 175,
     "metadata": {},
     "output_type": "execute_result"
    }
   ],
   "source": [
    "df['RevLineCr'].unique()"
   ]
  },
  {
   "cell_type": "markdown",
   "id": "f464850b",
   "metadata": {},
   "source": [
    "__Value binarization for param LowDoc__"
   ]
  },
  {
   "cell_type": "code",
   "execution_count": 176,
   "id": "f0013b97",
   "metadata": {},
   "outputs": [],
   "source": [
    "df.loc[df[\"LowDoc\"] == \"N\", \"LowDoc\"] = 0\n",
    "df.loc[df[\"LowDoc\"] == \"Y\", \"LowDoc\"] = 1\n",
    "df.loc[df[\"LowDoc\"] == \"0\", \"LowDoc\"] = 0\n",
    "df.loc[df[\"LowDoc\"] == \"R\", \"LowDoc\"] = 1\n",
    "df.loc[df[\"LowDoc\"] == \"C\", \"LowDoc\"] = 1\n",
    "df.loc[df[\"LowDoc\"] == \"S\", \"LowDoc\"] = 1\n",
    "df.loc[df[\"LowDoc\"] == \"A\", \"LowDoc\"] = 1\n",
    "df['LowDoc'].fillna(1, inplace=True) \n",
    "#what to do with  R C S A & nan ? assign 0 to all of them ? or 1 ? create a third class ?"
   ]
  },
  {
   "cell_type": "code",
   "execution_count": 177,
   "id": "295ba176",
   "metadata": {},
   "outputs": [
    {
     "data": {
      "text/plain": [
       "array([0, 1])"
      ]
     },
     "execution_count": 177,
     "metadata": {},
     "output_type": "execute_result"
    }
   ],
   "source": [
    "df['LowDoc'].unique()"
   ]
  },
  {
   "cell_type": "markdown",
   "id": "c2b214b5",
   "metadata": {},
   "source": [
    "__Value binarization for param RevLineCr__"
   ]
  },
  {
   "cell_type": "code",
   "execution_count": 182,
   "id": "34bc6a16",
   "metadata": {},
   "outputs": [],
   "source": [
    "df.loc[df[\"RevLineCr\"] == \"N\", \"RevLineCr\"] = 0\n",
    "df.loc[df[\"RevLineCr\"] == \"Y\", \"RevLineCr\"] = 1\n",
    "df.loc[df[\"RevLineCr\"] == \"0\", \"RevLineCr\"] = 1\n",
    "df.loc[df[\"RevLineCr\"] == \"T\", \"RevLineCr\"] = 1\n",
    "df['RevLineCr'].fillna(1, inplace=True) "
   ]
  },
  {
   "cell_type": "code",
   "execution_count": 183,
   "id": "4efbbdab",
   "metadata": {},
   "outputs": [
    {
     "data": {
      "text/plain": [
       "array([0, 1])"
      ]
     },
     "execution_count": 183,
     "metadata": {},
     "output_type": "execute_result"
    }
   ],
   "source": [
    "df['RevLineCr'].unique()"
   ]
  },
  {
   "cell_type": "code",
   "execution_count": 207,
   "id": "41e6e408",
   "metadata": {},
   "outputs": [],
   "source": [
    "df.loc[df[\"ApprovalFY\"] == \"1976A\", \"ApprovalFY\"] = 1976"
   ]
  },
  {
   "cell_type": "markdown",
   "id": "7b158ed9",
   "metadata": {},
   "source": [
    "__Numerization of param 'Bank' and 'Bankstate'__"
   ]
  },
  {
   "cell_type": "code",
   "execution_count": 215,
   "id": "13a21615",
   "metadata": {},
   "outputs": [],
   "source": [
    "for i in range(0, 312): #we assign an int to identify each bank\n",
    "    df.loc[df[\"Bank\"] == index[i] , \"Bank\"] = i \n",
    "#df.head()\n",
    "df['Bank'].fillna(312, inplace=True)\n",
    "#df['Bank'].unique()"
   ]
  },
  {
   "cell_type": "code",
   "execution_count": 217,
   "id": "9db4453a",
   "metadata": {},
   "outputs": [],
   "source": [
    "df['BankState'].fillna('NY', inplace=True)\n",
    "index_S = df[\"BankState\"].unique() #we assign an int to identify each bank state\n",
    "for i in range (0, 37):\n",
    "    \n",
    "    df.loc[df[\"BankState\"] == index_S[i] , \"BankState\"] = i\n",
    "#df.head()\n",
    "#df['BankState'].unique()"
   ]
  },
  {
   "cell_type": "code",
   "execution_count": 203,
   "id": "de93bda0",
   "metadata": {},
   "outputs": [
    {
     "data": {
      "text/plain": [
       "array([1., 2., 0.])"
      ]
     },
     "execution_count": 203,
     "metadata": {},
     "output_type": "execute_result"
    }
   ],
   "source": [
    "df['NewExist'].fillna(2, inplace=True)  #replaced NaN by 2 but maybe 0 or 1 can be better ?\n",
    "df['NewExist'].unique()"
   ]
  },
  {
   "cell_type": "code",
   "execution_count": 188,
   "id": "996bd533",
   "metadata": {},
   "outputs": [
    {
     "data": {
      "text/plain": [
       "array(['0.00 '], dtype=object)"
      ]
     },
     "execution_count": 188,
     "metadata": {},
     "output_type": "execute_result"
    }
   ],
   "source": [
    "df['Balance Gross'].unique() #irrelevant feature ? , always 0 in the training"
   ]
  },
  {
   "cell_type": "markdown",
   "id": "9b024275",
   "metadata": {},
   "source": [
    "# Different algorithm and their accuracy with some parameters "
   ]
  },
  {
   "cell_type": "code",
   "execution_count": 208,
   "id": "be43bc7d",
   "metadata": {},
   "outputs": [],
   "source": [
    "from sklearn.model_selection import train_test_split\n",
    "features = ['BankState', 'Bank', 'NoEmp', 'NewExist','CreateJob', 'RetainedJob', 'Disb Gross', 'ApprovalFY']\n",
    "X = df[features].values\n",
    "y = df['Accept'].values \n",
    "from sklearn import preprocessing\n",
    "X_train, X_test, y_train, y_test = train_test_split(X, y, test_size=0.5, random_state=33, stratify=y) #75% training 25%test\n",
    "scaler = preprocessing.StandardScaler().fit(X_train) #preprocess : standardize/normalize\n",
    "X_train = scaler.transform(X_train)\n",
    "X_test = scaler.transform(X_test)"
   ]
  },
  {
   "cell_type": "code",
   "execution_count": 209,
   "id": "2d894e2f",
   "metadata": {},
   "outputs": [
    {
     "name": "stdout",
     "output_type": "stream",
     "text": [
      "Confusion matrix for decision tree : \n",
      " [[ 1977  2135]\n",
      " [ 2515 13566]]\n",
      "Exactitud del conjunto de entrenamiento: 0.986\n",
      "Exactitud del conjunto de test: 0.770\n"
     ]
    }
   ],
   "source": [
    "from sklearn.tree import DecisionTreeClassifier\n",
    "decision_tree = DecisionTreeClassifier()\n",
    "decision_tree.fit(X_train, y_train)\n",
    "Y_pred_dec_tree = decision_tree.predict(X_test)\n",
    "from sklearn.metrics import plot_confusion_matrix\n",
    "from sklearn import metrics\n",
    "print('Confusion matrix for decision tree : \\n', metrics.confusion_matrix(y_test, Y_pred_dec_tree))\n",
    "print(\"Exactitud del conjunto de entrenamiento: {:.3f}\".format(decision_tree.score(X_train, y_train)))\n",
    "print(\"Exactitud del conjunto de test: {:.3f}\".format(decision_tree.score(X_test, y_test)))"
   ]
  },
  {
   "cell_type": "code",
   "execution_count": 210,
   "id": "bf738543",
   "metadata": {},
   "outputs": [
    {
     "name": "stdout",
     "output_type": "stream",
     "text": [
      "Confusion matrix for perceptron model : \n",
      " [[  314  3798]\n",
      " [ 3522 12559]]\n",
      "Exactitud del conjunto de entrenamiento: 0.648\n",
      "Exactitud del conjunto de test: 0.637\n"
     ]
    }
   ],
   "source": [
    "from sklearn.linear_model import Perceptron\n",
    "perceptron = Perceptron()\n",
    "perceptron.fit(X_train, y_train)\n",
    "Y_pred_perceptron = perceptron.predict(X_test)\n",
    "from sklearn.metrics import plot_confusion_matrix \n",
    "print('Confusion matrix for perceptron model : \\n', metrics.confusion_matrix(y_test, Y_pred_perceptron))\n",
    "print(\"Exactitud del conjunto de entrenamiento: {:.3f}\".format(perceptron.score(X_train, y_train)))\n",
    "print(\"Exactitud del conjunto de test: {:.3f}\".format(perceptron.score(X_test, y_test)))"
   ]
  },
  {
   "cell_type": "code",
   "execution_count": 211,
   "id": "4a5b5d3e",
   "metadata": {},
   "outputs": [
    {
     "name": "stdout",
     "output_type": "stream",
     "text": [
      "Confusion matrix for random forest classifier : \n",
      " [[ 1723  2389]\n",
      " [ 1113 14968]]\n",
      "Exactitud del conjunto de entrenamiento: 0.986\n",
      "Exactitud del conjunto de test: 0.827\n"
     ]
    }
   ],
   "source": [
    "from sklearn.ensemble import RandomForestClassifier\n",
    "random_forest = RandomForestClassifier(n_estimators=100)\n",
    "random_forest.fit(X_train, y_train)\n",
    "Y_pred_rdm_forest = random_forest.predict(X_test)\n",
    "random_forest.score(X_train, y_train)\n",
    "print('Confusion matrix for random forest classifier : \\n', metrics.confusion_matrix(y_test, Y_pred_rdm_forest))\n",
    "print(\"Exactitud del conjunto de entrenamiento: {:.3f}\".format(random_forest.score(X_train, y_train)))\n",
    "print(\"Exactitud del conjunto de test: {:.3f}\".format(random_forest.score(X_test, y_test)))"
   ]
  },
  {
   "cell_type": "code",
   "execution_count": 212,
   "id": "fd143b0f",
   "metadata": {},
   "outputs": [
    {
     "name": "stdout",
     "output_type": "stream",
     "text": [
      "Confusion matrix for random forest classifier : \n",
      " [[  561  3551]\n",
      " [  515 15566]]\n",
      "Exactitud del conjunto de entrenamiento: 0.799\n",
      "Exactitud del conjunto de test: 0.799\n"
     ]
    }
   ],
   "source": [
    "from sklearn.naive_bayes import GaussianNB\n",
    "clf_NB = GaussianNB()\n",
    "clf_NB.fit(X_train, y_train)\n",
    "y_pred_NB = clf_NB.predict(X_test)\n",
    "print('Confusion matrix for random forest classifier : \\n', metrics.confusion_matrix(y_test, y_pred_NB))\n",
    "print(\"Exactitud del conjunto de entrenamiento: {:.3f}\".format(clf_NB.score(X_train, y_train)))\n",
    "print(\"Exactitud del conjunto de test: {:.3f}\".format(clf_NB.score(X_test, y_test)))"
   ]
  },
  {
   "cell_type": "code",
   "execution_count": 213,
   "id": "dbca3ebe",
   "metadata": {},
   "outputs": [
    {
     "name": "stdout",
     "output_type": "stream",
     "text": [
      "Exactitud del conjunto de entrenamiento: 0.818\n",
      "Exactitud del conjunto de test: 0.813\n",
      "Confusion matrix for random forest classifier : \n",
      " [[ 1097  3015]\n",
      " [  761 15320]]\n"
     ]
    }
   ],
   "source": [
    "from sklearn.neural_network import MLPClassifier\n",
    "mlp = MLPClassifier(max_iter=3000,activation = 'tanh',solver='adam',random_state=1, hidden_layer_sizes=(5,3)) \n",
    "mlp.fit(X_train, y_train)\n",
    "print(\"Exactitud del conjunto de entrenamiento: {:.3f}\".format(mlp.score(X_train, y_train)))\n",
    "y_pred_mlp = mlp.predict(X_test)\n",
    "print(\"Exactitud del conjunto de test: {:.3f}\".format(mlp.score(X_test, y_test)))\n",
    "print('Confusion matrix for random forest classifier : \\n', metrics.confusion_matrix(y_test, y_pred_mlp))"
   ]
  },
  {
   "cell_type": "code",
   "execution_count": 214,
   "id": "bfb34513",
   "metadata": {},
   "outputs": [
    {
     "name": "stdout",
     "output_type": "stream",
     "text": [
      "Exactitud del conjunto de entrenamiento: 0.844\n",
      "Exactitud del conjunto de test: 0.842\n",
      "Confusion matrix for random forest classifier : \n",
      " [[ 1456  2656]\n",
      " [  536 15545]]\n"
     ]
    }
   ],
   "source": [
    "from sklearn.ensemble import GradientBoostingClassifier\n",
    "clf=GradientBoostingClassifier()\n",
    "clf.fit(X_train, y_train)\n",
    "print(\"Exactitud del conjunto de entrenamiento: {:.3f}\".format(clf.score(X_train, y_train)))\n",
    "y_pred_clf = clf.predict(X_test)\n",
    "print(\"Exactitud del conjunto de test: {:.3f}\".format(clf.score(X_test, y_test)))\n",
    "print('Confusion matrix for random forest classifier : \\n', metrics.confusion_matrix(y_test, y_pred_clf))"
   ]
  },
  {
   "cell_type": "code",
   "execution_count": null,
   "id": "62089317",
   "metadata": {},
   "outputs": [],
   "source": []
  }
 ],
 "metadata": {
  "kernelspec": {
   "display_name": "Python 3 (ipykernel)",
   "language": "python",
   "name": "python3"
  },
  "language_info": {
   "codemirror_mode": {
    "name": "ipython",
    "version": 3
   },
   "file_extension": ".py",
   "mimetype": "text/x-python",
   "name": "python",
   "nbconvert_exporter": "python",
   "pygments_lexer": "ipython3",
   "version": "3.8.12"
  }
 },
 "nbformat": 4,
 "nbformat_minor": 5
}
